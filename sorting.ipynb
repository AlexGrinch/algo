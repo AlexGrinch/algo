{
 "cells": [
  {
   "cell_type": "code",
   "execution_count": 1,
   "metadata": {},
   "outputs": [],
   "source": [
    "import numpy as np\n",
    "import time"
   ]
  },
  {
   "cell_type": "code",
   "execution_count": 2,
   "metadata": {},
   "outputs": [],
   "source": [
    "def insertion_sort(arr):\n",
    "    for i in range(len(arr)):\n",
    "        j = i\n",
    "        while j > 0 and arr[j-1] > arr[j]:\n",
    "            arr[j-1], arr[j] = arr[j], arr[j-1]\n",
    "            j -= 1\n",
    "    return arr"
   ]
  },
  {
   "cell_type": "code",
   "execution_count": 3,
   "metadata": {},
   "outputs": [],
   "source": [
    "def merge_sort(arr):\n",
    "    len_ = len(arr)\n",
    "    if len_ <= 1:\n",
    "        return arr\n",
    "    else:\n",
    "        pivot = len_ // 2\n",
    "        return merge(merge_sort(arr[:pivot]), merge_sort(arr[pivot:]))\n",
    "    \n",
    "def merge(arr1, arr2):\n",
    "    new_arr = []\n",
    "    i, j = 0, 0\n",
    "    while (i < len(arr1) and j < len(arr2)):\n",
    "        if (arr1[i] < arr2[j]):\n",
    "            new_arr.append(arr1[i])\n",
    "            i += 1\n",
    "        else:\n",
    "            new_arr.append(arr2[j])\n",
    "            j += 1\n",
    "    new_arr = new_arr + arr1[i:] + arr2[j:]\n",
    "    return new_arr    "
   ]
  },
  {
   "cell_type": "code",
   "execution_count": 4,
   "metadata": {},
   "outputs": [],
   "source": [
    "def quick_sort(arr):\n",
    "    len_ = len(arr)\n",
    "    if len_ <= 1:\n",
    "        return arr\n",
    "    else:\n",
    "        pivot = np.random.randint(len_)\n",
    "        left, right = [], []\n",
    "        for i in range(len_):\n",
    "            if (i != pivot and arr[i] < arr[pivot]):\n",
    "                left.append(arr[i])\n",
    "            elif (i != pivot):\n",
    "                right.append(arr[i])\n",
    "        return quick_sort(left) + [arr[pivot]] + quick_sort(right)"
   ]
  },
  {
   "cell_type": "code",
   "execution_count": 5,
   "metadata": {},
   "outputs": [],
   "source": [
    "def heapify(arr, size, idx):\n",
    "    left = idx * 2 + 1\n",
    "    right = idx * 2 + 2\n",
    "    \n",
    "    max_ = (idx, arr[idx])\n",
    "    \n",
    "    if left < size and arr[left] > max_[1]:\n",
    "        max_ = (left, arr[left])\n",
    "        \n",
    "    if right < size and arr[right] > max_[1]:\n",
    "        max_ = (right, arr[right])\n",
    "        \n",
    "    if idx != max_[0]:\n",
    "        arr[idx], arr[max_[0]] = arr[max_[0]], arr[idx]\n",
    "        heapify(arr, size, max_[0])\n",
    "    \n",
    "def heap_sort(arr):\n",
    "    len_ = len(arr)\n",
    "    \n",
    "    for i in range(len_-1, -1, -1):\n",
    "        heapify(arr, len_, i)\n",
    "        \n",
    "    for i in range(len_-1, -1, -1):\n",
    "        arr[i], arr[0] = arr[0], arr[i]\n",
    "        heapify(arr, i-1, 0)\n",
    "        \n",
    "    return arr"
   ]
  },
  {
   "cell_type": "code",
   "execution_count": 6,
   "metadata": {},
   "outputs": [],
   "source": [
    "def shell_sort(arr):\n",
    "    sort_term = len(arr) // 2\n",
    "    while sort_term >= 1:\n",
    "        for i in range(sort_term):\n",
    "            arr[i::sort_term] = insertion_sort(arr[i::sort_term])\n",
    "        sort_term = sort_term // 2\n",
    "    return arr"
   ]
  },
  {
   "cell_type": "code",
   "execution_count": 7,
   "metadata": {},
   "outputs": [
    {
     "name": "stdout",
     "output_type": "stream",
     "text": [
      "7.7 s ± 317 ms per loop (mean ± std. dev. of 7 runs, 1 loop each)\n"
     ]
    }
   ],
   "source": [
    "%%timeit\n",
    "a = np.random.random(10000).tolist()\n",
    "insertion_sort(a)"
   ]
  },
  {
   "cell_type": "code",
   "execution_count": 8,
   "metadata": {},
   "outputs": [
    {
     "name": "stdout",
     "output_type": "stream",
     "text": [
      "55.1 ms ± 2.01 ms per loop (mean ± std. dev. of 7 runs, 10 loops each)\n"
     ]
    }
   ],
   "source": [
    "%%timeit\n",
    "a = np.random.random(10000).tolist()\n",
    "merge_sort(a)"
   ]
  },
  {
   "cell_type": "code",
   "execution_count": 9,
   "metadata": {},
   "outputs": [
    {
     "name": "stdout",
     "output_type": "stream",
     "text": [
      "52.8 ms ± 3.16 ms per loop (mean ± std. dev. of 7 runs, 10 loops each)\n"
     ]
    }
   ],
   "source": [
    "%%timeit\n",
    "a = np.random.random(10000).tolist()\n",
    "quick_sort(a)"
   ]
  },
  {
   "cell_type": "code",
   "execution_count": 10,
   "metadata": {},
   "outputs": [
    {
     "name": "stdout",
     "output_type": "stream",
     "text": [
      "96.1 ms ± 9.45 ms per loop (mean ± std. dev. of 7 runs, 10 loops each)\n"
     ]
    }
   ],
   "source": [
    "%%timeit\n",
    "a = np.random.random(10000).tolist()\n",
    "heap_sort(a)"
   ]
  },
  {
   "cell_type": "code",
   "execution_count": 11,
   "metadata": {},
   "outputs": [
    {
     "name": "stdout",
     "output_type": "stream",
     "text": [
      "67.7 ms ± 4.43 ms per loop (mean ± std. dev. of 7 runs, 10 loops each)\n"
     ]
    }
   ],
   "source": [
    "%%timeit\n",
    "a = np.random.random(10000).tolist()\n",
    "shell_sort(a)"
   ]
  }
 ],
 "metadata": {
  "kernelspec": {
   "display_name": "opensim",
   "language": "python",
   "name": "opensim"
  },
  "language_info": {
   "codemirror_mode": {
    "name": "ipython",
    "version": 3
   },
   "file_extension": ".py",
   "mimetype": "text/x-python",
   "name": "python",
   "nbconvert_exporter": "python",
   "pygments_lexer": "ipython3",
   "version": "3.6.1"
  }
 },
 "nbformat": 4,
 "nbformat_minor": 2
}
